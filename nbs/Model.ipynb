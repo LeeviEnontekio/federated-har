{
 "cells": [
  {
   "cell_type": "markdown",
   "id": "fc98a1fc-845d-409b-a5bc-a867511cddd2",
   "metadata": {},
   "source": [
    "# This file builds Swin3D Transformer and modifies the head for transfer learning"
   ]
  },
  {
   "cell_type": "code",
   "execution_count": 1,
   "id": "4a838de6-86b5-442d-bda9-951bee4bf89e",
   "metadata": {},
   "outputs": [],
   "source": [
    "#|default_exp model"
   ]
  },
  {
   "cell_type": "code",
   "execution_count": 2,
   "id": "8f902b4a-69a0-452a-9cce-1d80aea43ee7",
   "metadata": {},
   "outputs": [],
   "source": [
    "#| export\n",
    "import torch\n",
    "from torchvision.models.video import swin3d_s, Swin3D_S_Weights\n",
    "from torch import nn\n",
    "import matplotlib.pyplot as plt"
   ]
  },
  {
   "cell_type": "code",
   "execution_count": 3,
   "id": "5b79a69d-5ba0-4197-9953-fa060607c40d",
   "metadata": {},
   "outputs": [],
   "source": [
    "import sys\n",
    "sys.path.append('..')\n",
    "\n",
    "from federated_har.datasets import *"
   ]
  },
  {
   "cell_type": "code",
   "execution_count": 4,
   "id": "441ce362-e073-41db-8e76-51f37b62bcce",
   "metadata": {},
   "outputs": [
    {
     "data": {
      "text/plain": [
       "True"
      ]
     },
     "execution_count": 4,
     "metadata": {},
     "output_type": "execute_result"
    }
   ],
   "source": [
    "torch.cuda.is_available()"
   ]
  },
  {
   "cell_type": "code",
   "execution_count": 5,
   "id": "0bf53b83-3a0d-4e81-bf38-94af034223f3",
   "metadata": {},
   "outputs": [],
   "source": [
    "model = swin3d_s(weights=Swin3D_S_Weights.DEFAULT)"
   ]
  },
  {
   "cell_type": "code",
   "execution_count": 6,
   "id": "fa7a07bb-447a-42a3-808e-7058381c8d29",
   "metadata": {},
   "outputs": [
    {
     "data": {
      "text/plain": [
       "Linear(in_features=768, out_features=400, bias=True)"
      ]
     },
     "execution_count": 6,
     "metadata": {},
     "output_type": "execute_result"
    }
   ],
   "source": [
    "model.head"
   ]
  },
  {
   "cell_type": "markdown",
   "id": "e29d2c0c-91ec-4597-ac30-e3a2a82e5766",
   "metadata": {},
   "source": [
    "For Transfer Learning, we can subtitute the head with a new linear layer that better suits our needs. Only the head needs to be trained as everything else is pretrained with Kinetics 400 dataset"
   ]
  },
  {
   "cell_type": "code",
   "execution_count": 7,
   "id": "96d180ef-9aae-4f21-b678-8d131d016878",
   "metadata": {},
   "outputs": [],
   "source": [
    "for param in model.parameters():\n",
    "    param.requires_grad = False"
   ]
  },
  {
   "cell_type": "code",
   "execution_count": 8,
   "id": "b4110fc2-3380-4d5b-8d47-9386d6753eb7",
   "metadata": {},
   "outputs": [],
   "source": [
    "num_ftrs = model.head.in_features"
   ]
  },
  {
   "cell_type": "code",
   "execution_count": 9,
   "id": "ae1b74be-5617-4bd4-b7b8-ec8e79c75900",
   "metadata": {},
   "outputs": [],
   "source": [
    "model.head = nn.Linear(in_features=num_ftrs, out_features=3)"
   ]
  },
  {
   "cell_type": "code",
   "execution_count": 10,
   "id": "d24f8fde-84ab-40b3-a677-4eafced9546b",
   "metadata": {},
   "outputs": [],
   "source": [
    "#| export\n",
    "def create_model(num_out):\n",
    "    \"\"\"\n",
    "    Loads pretrained model and freezes all layers except new custom head layer\n",
    "\n",
    "    Args:\n",
    "        num_out (int): number of classes to output\n",
    "\n",
    "    Returns: \n",
    "        Swin3D transformer Small Pytorch model\n",
    "    \"\"\"\n",
    "    model = swin3d_s(weights=Swin3D_S_Weights.DEFAULT)\n",
    "    for param in model.parameters():\n",
    "        param.requires_grad = False\n",
    "\n",
    "    num_ftrs = model.head.in_features\n",
    "    model.head = nn.Linear(in_features=num_ftrs, out_features=num_out)\n",
    "    return model"
   ]
  },
  {
   "cell_type": "markdown",
   "id": "1ddcd465-cf85-4652-b219-d8d3501dd8c0",
   "metadata": {},
   "source": [
    "# Helper Functions for Testing Training and for Flower Framework"
   ]
  },
  {
   "cell_type": "code",
   "execution_count": 11,
   "id": "7ae84539-1900-418e-9513-f8bfc3b917bc",
   "metadata": {},
   "outputs": [],
   "source": [
    "#| export\n",
    "def train(net, trainloader, optimizer, epochs):\n",
    "    \"\"\"Train the network on the training set.\"\"\"\n",
    "    criterion = torch.nn.CrossEntropyLoss()\n",
    "    net.train()\n",
    "    for _ in range(epochs):\n",
    "        for images, labels in trainloader:\n",
    "            optimizer.zero_grad()\n",
    "            preds = net(images)\n",
    "            loss = criterion(preds, labels)\n",
    "            loss.backward()\n",
    "            optimizer.step()\n",
    "    return net"
   ]
  },
  {
   "cell_type": "code",
   "execution_count": 12,
   "id": "1ef39434-7376-4170-96f7-54cb6df518d6",
   "metadata": {},
   "outputs": [],
   "source": [
    "#| export\n",
    "def test(net, testloader, device='cpu'):\n",
    "    \"\"\"Validate the network on the entire test set.\"\"\"\n",
    "    net.to(device)\n",
    "    criterion = torch.nn.CrossEntropyLoss()\n",
    "    correct, loss = 0, 0.0\n",
    "    net.eval()\n",
    "    with torch.no_grad():\n",
    "        for images, labels in testloader:\n",
    "            images, labels = images.to(device), labels.to(device)\n",
    "            outputs = net(images)\n",
    "            loss += criterion(outputs, labels).item()\n",
    "            _, predicted = torch.max(outputs.data, 1)\n",
    "            correct += (predicted == labels).sum().item()\n",
    "    accuracy = correct / len(testloader.dataset)\n",
    "    return loss, accuracy"
   ]
  },
  {
   "cell_type": "code",
   "execution_count": 13,
   "id": "0a8d7ec5-ef10-4f0f-8ed6-0e6f8a850994",
   "metadata": {},
   "outputs": [],
   "source": [
    "train_dl, test_dl = create_dataloaders('../kin6-mini/train', '../kin6-mini/test', clip_length=32, bs=4)"
   ]
  },
  {
   "cell_type": "code",
   "execution_count": 14,
   "id": "0ab5203e-e1e5-406d-a4f3-f8f4d69d4e1f",
   "metadata": {},
   "outputs": [
    {
     "data": {
      "text/plain": [
       "(30, 8)"
      ]
     },
     "execution_count": 14,
     "metadata": {},
     "output_type": "execute_result"
    }
   ],
   "source": [
    "len(train_dl.dataset), len(test_dl)"
   ]
  },
  {
   "cell_type": "code",
   "execution_count": 15,
   "id": "48c7e77e-1fc6-4a7c-8ce5-a2dd4f885c86",
   "metadata": {},
   "outputs": [],
   "source": [
    "model = create_model(3)\n",
    "optim = torch.optim.SGD(model.parameters(), lr=1e-3, momentum=0.9)\n",
    "optim = torch.optim.Adam(model.parameters())"
   ]
  },
  {
   "cell_type": "code",
   "execution_count": 16,
   "id": "da53d080-99c5-4922-985a-f0b805c0c1ae",
   "metadata": {},
   "outputs": [],
   "source": [
    "device = 'cpu'"
   ]
  },
  {
   "cell_type": "code",
   "execution_count": 17,
   "id": "1184217d-1cd8-4679-b6e9-aff40cfcc24b",
   "metadata": {},
   "outputs": [
    {
     "name": "stdout",
     "output_type": "stream",
     "text": [
      "epoch 0\n"
     ]
    },
    {
     "name": "stderr",
     "output_type": "stream",
     "text": [
      "/home/leevi/miniconda3/envs/FL/lib/python3.11/site-packages/torchvision/io/video.py:161: UserWarning: The pts_unit 'pts' gives wrong results. Please use pts_unit 'sec'.\n",
      "  warnings.warn(\"The pts_unit 'pts' gives wrong results. Please use pts_unit 'sec'.\")\n"
     ]
    },
    {
     "name": "stdout",
     "output_type": "stream",
     "text": [
      "epoch 1\n",
      "epoch 2\n"
     ]
    }
   ],
   "source": [
    "criterion = torch.nn.CrossEntropyLoss()\n",
    "model.to(device)\n",
    "losses = []\n",
    "for epoch in range(3):\n",
    "    print(f'epoch {epoch}')\n",
    "    for xb, yb in train_dl:\n",
    "        xb, yb = xb.to(device), yb.to(device)\n",
    "        preds = model(xb)\n",
    "        loss = criterion(preds, yb)\n",
    "        losses.append(loss.detach().cpu())\n",
    "        loss.backward()\n",
    "        optim.step()\n",
    "        optim.zero_grad()"
   ]
  },
  {
   "cell_type": "code",
   "execution_count": 18,
   "id": "0c2f296f-c49e-434b-9dc8-2cfb767ec056",
   "metadata": {},
   "outputs": [
    {
     "data": {
      "text/plain": [
       "(2.689805328845978, 0.9333333333333333)"
      ]
     },
     "execution_count": 18,
     "metadata": {},
     "output_type": "execute_result"
    }
   ],
   "source": [
    "test(model, test_dl, device) "
   ]
  },
  {
   "cell_type": "code",
   "execution_count": 19,
   "id": "adbd99c7-2d6f-4b93-9efc-fecabcd7e577",
   "metadata": {},
   "outputs": [
    {
     "data": {
      "text/plain": [
       "[<matplotlib.lines.Line2D at 0x7caa903b2bd0>]"
      ]
     },
     "execution_count": 19,
     "metadata": {},
     "output_type": "execute_result"
    },
    {
     "data": {
      "image/png": "[encoded data removed]",
      "text/plain": [
       "<Figure size 640x480 with 1 Axes>"
      ]
     },
     "metadata": {},
     "output_type": "display_data"
    }
   ],
   "source": [
    "plt.plot(range(len(losses)), losses)"
   ]
  },
  {
   "cell_type": "markdown",
   "id": "068d58df-6550-4b88-ba58-63841b3535a5",
   "metadata": {},
   "source": [
    "# Export"
   ]
  },
  {
   "cell_type": "code",
   "execution_count": 20,
   "id": "3f92ffe4-1597-4311-92b3-9822e6fb2196",
   "metadata": {},
   "outputs": [],
   "source": [
    "import nbdev; nbdev.nbdev_export()"
   ]
  }
 ],
 "metadata": {
  "kernelspec": {
   "display_name": "Python 3 (ipykernel)",
   "language": "python",
   "name": "python3"
  },
  "language_info": {
   "codemirror_mode": {
    "name": "ipython",
    "version": 3
   },
   "file_extension": ".py",
   "mimetype": "text/x-python",
   "name": "python",
   "nbconvert_exporter": "python",
   "pygments_lexer": "ipython3",
   "version": "3.11.8"
  }
 },
 "nbformat": 4,
 "nbformat_minor": 5
}
